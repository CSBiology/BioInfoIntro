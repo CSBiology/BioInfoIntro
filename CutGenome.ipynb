{
 "cells": [
  {
   "cell_type": "code",
   "execution_count": 1,
   "metadata": {
    "dotnet_interactive": {
     "language": "fsharp"
    },
    "polyglot_notebook": {
     "kernelName": "fsharp"
    }
   },
   "outputs": [
    {
     "data": {
      "text/html": [
       "<div><div></div><div></div><div><strong>Installed Packages</strong><ul><li><span>FSharp.Data, 6.0.1-beta002</span></li></ul></div></div>"
      ]
     },
     "metadata": {},
     "output_type": "display_data"
    }
   ],
   "source": [
    "#r \"nuget: FSharp.Data, 6.0.1-beta002\"\n",
    "open FSharp.Data\n",
    "let data = Http.RequestString(@\"https://bioinformaticsalgorithms.com/data/realdatasets/Replication/Thermotoga_petrophila.txt\")\n"
   ]
  },
  {
   "cell_type": "code",
   "execution_count": 2,
   "metadata": {
    "dotnet_interactive": {
     "language": "fsharp"
    },
    "polyglot_notebook": {
     "kernelName": "fsharp"
    }
   },
   "outputs": [
    {
     "data": {
      "text/html": [
       "<div class=\"dni-plaintext\"><pre>1823511</pre></div><style>\r\n",
       ".dni-code-hint {\r\n",
       "    font-style: italic;\r\n",
       "    overflow: hidden;\r\n",
       "    white-space: nowrap;\r\n",
       "}\r\n",
       ".dni-treeview {\r\n",
       "    white-space: nowrap;\r\n",
       "}\r\n",
       ".dni-treeview td {\r\n",
       "    vertical-align: top;\r\n",
       "    text-align: start;\r\n",
       "}\r\n",
       "details.dni-treeview {\r\n",
       "    padding-left: 1em;\r\n",
       "}\r\n",
       "table td {\r\n",
       "    text-align: start;\r\n",
       "}\r\n",
       "table tr { \r\n",
       "    vertical-align: top; \r\n",
       "    margin: 0em 0px;\r\n",
       "}\r\n",
       "table tr td pre \r\n",
       "{ \r\n",
       "    vertical-align: top !important; \r\n",
       "    margin: 0em 0px !important;\r\n",
       "} \r\n",
       "table th {\r\n",
       "    text-align: start;\r\n",
       "}\r\n",
       "</style>"
      ]
     },
     "metadata": {},
     "output_type": "display_data"
    }
   ],
   "source": [
    "data.Length"
   ]
  },
  {
   "cell_type": "code",
   "execution_count": 3,
   "metadata": {
    "dotnet_interactive": {
     "language": "fsharp"
    },
    "polyglot_notebook": {
     "kernelName": "fsharp"
    }
   },
   "outputs": [
    {
     "data": {
      "text/html": [
       "<div class=\"dni-plaintext\"><pre>911755</pre></div><style>\r\n",
       ".dni-code-hint {\r\n",
       "    font-style: italic;\r\n",
       "    overflow: hidden;\r\n",
       "    white-space: nowrap;\r\n",
       "}\r\n",
       ".dni-treeview {\r\n",
       "    white-space: nowrap;\r\n",
       "}\r\n",
       ".dni-treeview td {\r\n",
       "    vertical-align: top;\r\n",
       "    text-align: start;\r\n",
       "}\r\n",
       "details.dni-treeview {\r\n",
       "    padding-left: 1em;\r\n",
       "}\r\n",
       "table td {\r\n",
       "    text-align: start;\r\n",
       "}\r\n",
       "table tr { \r\n",
       "    vertical-align: top; \r\n",
       "    margin: 0em 0px;\r\n",
       "}\r\n",
       "table tr td pre \r\n",
       "{ \r\n",
       "    vertical-align: top !important; \r\n",
       "    margin: 0em 0px !important;\r\n",
       "} \r\n",
       "table th {\r\n",
       "    text-align: start;\r\n",
       "}\r\n",
       "</style>"
      ]
     },
     "metadata": {},
     "output_type": "display_data"
    }
   ],
   "source": [
    "((data.Length-1)/2)"
   ]
  },
  {
   "cell_type": "code",
   "execution_count": 17,
   "metadata": {
    "dotnet_interactive": {
     "language": "fsharp"
    },
    "polyglot_notebook": {
     "kernelName": "fsharp"
    }
   },
   "outputs": [
    {
     "data": {
      "text/html": [
       "<div class=\"dni-plaintext\"><pre>911756</pre></div><style>\r\n",
       ".dni-code-hint {\r\n",
       "    font-style: italic;\r\n",
       "    overflow: hidden;\r\n",
       "    white-space: nowrap;\r\n",
       "}\r\n",
       ".dni-treeview {\r\n",
       "    white-space: nowrap;\r\n",
       "}\r\n",
       ".dni-treeview td {\r\n",
       "    vertical-align: top;\r\n",
       "    text-align: start;\r\n",
       "}\r\n",
       "details.dni-treeview {\r\n",
       "    padding-left: 1em;\r\n",
       "}\r\n",
       "table td {\r\n",
       "    text-align: start;\r\n",
       "}\r\n",
       "table tr { \r\n",
       "    vertical-align: top; \r\n",
       "    margin: 0em 0px;\r\n",
       "}\r\n",
       "table tr td pre \r\n",
       "{ \r\n",
       "    vertical-align: top !important; \r\n",
       "    margin: 0em 0px !important;\r\n",
       "} \r\n",
       "table th {\r\n",
       "    text-align: start;\r\n",
       "}\r\n",
       "</style>"
      ]
     },
     "metadata": {},
     "output_type": "display_data"
    }
   ],
   "source": [
    "let indexOri= data.IndexOf(\"aactctatacctcctttttgtcgaatttgtgtgatttatagagaaaatcttattaactgaaactaaaatggtaggtttGGTGGTAGGttttgtgtacattttgtagtatctgatttttaattacataccgtatattgtattaaattgacgaacaattgcatggaattgaatatatgcaaaacaaaCCTACCACCaaactctgtattgaccattttaggacaacttcagGGTGGTAGGtttctgaagctctcatcaatagactattttagtctttacaaacaatattaccgttcagattcaagattctacaacgctgttttaatgggcgttgcagaaaacttaccacctaaaatccagtatccaagccgatttcagagaaacctaccacttacctaccacttaCCTACCACCcgggtggtaagttgcagacattattaaaaacctcatcagaagcttgttcaaaaatttcaatactcgaaaCCTACCACCtgcgtcccctattatttactactactaataatagcagtataattgatctga\".ToUpper())\n",
    "\n",
    "\n",
    "let forward = data.[indexOri.. indexOri+((data.Length-1)/2)]\n",
    "\n",
    "forward.Length\n"
   ]
  },
  {
   "cell_type": "code",
   "execution_count": 14,
   "metadata": {
    "dotnet_interactive": {
     "language": "fsharp"
    },
    "polyglot_notebook": {
     "kernelName": "fsharp"
    }
   },
   "outputs": [
    {
     "data": {
      "text/html": [
       "<div><div></div><div></div><div><strong>Installed Packages</strong><ul><li><span>BioFSharp.Interactive, 2.0.0-preview.3</span></li></ul></div></div>"
      ]
     },
     "metadata": {},
     "output_type": "display_data"
    }
   ],
   "source": [
    "#r \"nuget: BioFSharp.Interactive, 2.0.0-preview.3\"\n",
    "open BioFSharp\n",
    "\n",
    "let thermotogaPetrophilaGenome = BioSeq.ofNucleotideString forward"
   ]
  },
  {
   "cell_type": "code",
   "execution_count": 22,
   "metadata": {
    "dotnet_interactive": {
     "language": "fsharp"
    },
    "polyglot_notebook": {
     "kernelName": "fsharp"
    }
   },
   "outputs": [
    {
     "data": {
      "text/html": [
       "<table><thead><tr><th>Item1</th><th>Item2</th><th>Item3</th><th>Item4</th></tr></thead><tbody><tr><td><div class=\"dni-plaintext\"><pre>207881</pre></div></td><td><div class=\"dni-plaintext\"><pre>211597</pre></div></td><td><div class=\"dni-plaintext\"><pre>247546</pre></div></td><td><div class=\"dni-plaintext\"><pre>244732</pre></div></td></tr></tbody></table>"
      ]
     },
     "metadata": {},
     "output_type": "display_data"
    }
   ],
   "source": [
    "let anzahlForward_A =\n",
    "    thermotogaPetrophilaGenome \n",
    "    |> Seq.filter (fun x -> x = BioFSharp.Nucleotides.A)\n",
    "    |> Seq.length\n",
    "\n",
    "let anzahlForward_T =\n",
    "    thermotogaPetrophilaGenome \n",
    "    |> Seq.filter (fun x -> x = BioFSharp.Nucleotides.T)\n",
    "    |> Seq.length\n",
    "\n",
    "let anzahlForward_G =\n",
    "    thermotogaPetrophilaGenome \n",
    "    |> Seq.filter (fun x -> x = BioFSharp.Nucleotides.G)\n",
    "    |> Seq.length\n",
    "\n",
    "let anzahlForward_C =\n",
    "    thermotogaPetrophilaGenome \n",
    "    |> Seq.filter (fun x -> x = BioFSharp.Nucleotides.C)\n",
    "    |> Seq.length\n",
    "\n",
    "File.WriteAllText(@\"C:\\Users\\User\\source\\repos\\SchuelerPraktikum\\Thermotoga_petrophila_forward.txt\",forward)\n",
    "anzahlForward_C,anzahlForward_G,anzahlForward_A,anzahlForward_T    \n",
    "\n"
   ]
  },
  {
   "cell_type": "code",
   "execution_count": 23,
   "metadata": {
    "dotnet_interactive": {
     "language": "fsharp"
    },
    "polyglot_notebook": {
     "kernelName": "fsharp"
    }
   },
   "outputs": [],
   "source": [
    "let reverse = data.[0.. indexOri] + data.[indexOri+forward.Length .. data.Length-1] \n",
    "\n",
    "let thermotogaPetrophilaGenomeRev  = BioSeq.ofNucleotideString reverse\n",
    "\n",
    "let anzahlRev_A =\n",
    "    thermotogaPetrophilaGenomeRev \n",
    "    |> Seq.filter (fun x -> x = BioFSharp.Nucleotides.A)\n",
    "    |> Seq.length\n",
    "\n",
    "let anzahlRev_T =\n",
    "    thermotogaPetrophilaGenomeRev \n",
    "    |> Seq.filter (fun x -> x = BioFSharp.Nucleotides.T)\n",
    "    |> Seq.length\n",
    "\n",
    "let anzahlRev_G =\n",
    "    thermotogaPetrophilaGenomeRev \n",
    "    |> Seq.filter (fun x -> x = BioFSharp.Nucleotides.G)\n",
    "    |> Seq.length\n",
    "\n",
    "let anzahlRev_C =\n",
    "    thermotogaPetrophilaGenomeRev \n",
    "    |> Seq.filter (fun x -> x = BioFSharp.Nucleotides.C)\n",
    "    |> Seq.length\n",
    "\n",
    "File.WriteAllText(@\"C:\\Users\\User\\source\\repos\\SchuelerPraktikum\\Thermotoga_petrophila_reverse.txt\",reverse)\n",
    "anzahlRev_C,anzahlRev_G,anzahlRev_A,anzahlRev_T    \n",
    "\n"
   ]
  }
 ],
 "metadata": {
  "kernelspec": {
   "display_name": ".NET (F#)",
   "language": "F#",
   "name": ".net-fsharp"
  },
  "polyglot_notebook": {
   "kernelInfo": {
    "defaultKernelName": "fsharp",
    "items": [
     {
      "aliases": [
       "f#",
       "F#"
      ],
      "languageName": "F#",
      "name": "fsharp"
     },
     {
      "aliases": [
       "frontend"
      ],
      "languageName": null,
      "name": "vscode"
     }
    ]
   }
  }
 },
 "nbformat": 4,
 "nbformat_minor": 2
}
