{
 "cells": [
  {
   "cell_type": "code",
   "execution_count": null,
   "metadata": {
    "dotnet_interactive": {
     "language": "fsharp"
    },
    "polyglot_notebook": {
     "kernelName": "fsharp"
    }
   },
   "outputs": [],
   "source": [
    "#r \"nuget: FSharp.Data, 6.0.1-beta002\"\n",
    "open FSharp.Data\n",
    "let data = Http.RequestString(@\"https://bioinformaticsalgorithms.com/data/realdatasets/Replication/Thermotoga_petrophila.txt\")\n"
   ]
  },
  {
   "cell_type": "code",
   "execution_count": null,
   "metadata": {
    "dotnet_interactive": {
     "language": "fsharp"
    },
    "polyglot_notebook": {
     "kernelName": "fsharp"
    }
   },
   "outputs": [],
   "source": [
    "data.Length"
   ]
  },
  {
   "cell_type": "code",
   "execution_count": null,
   "metadata": {
    "dotnet_interactive": {
     "language": "fsharp"
    },
    "polyglot_notebook": {
     "kernelName": "fsharp"
    }
   },
   "outputs": [],
   "source": [
    "((data.Length-1)/2)"
   ]
  },
  {
   "cell_type": "code",
   "execution_count": null,
   "metadata": {
    "dotnet_interactive": {
     "language": "fsharp"
    },
    "polyglot_notebook": {
     "kernelName": "fsharp"
    }
   },
   "outputs": [],
   "source": [
    "let indexOri= data.IndexOf(\"aactctatacctcctttttgtcgaatttgtgtgatttatagagaaaatcttattaactgaaactaaaatggtaggtttGGTGGTAGGttttgtgtacattttgtagtatctgatttttaattacataccgtatattgtattaaattgacgaacaattgcatggaattgaatatatgcaaaacaaaCCTACCACCaaactctgtattgaccattttaggacaacttcagGGTGGTAGGtttctgaagctctcatcaatagactattttagtctttacaaacaatattaccgttcagattcaagattctacaacgctgttttaatgggcgttgcagaaaacttaccacctaaaatccagtatccaagccgatttcagagaaacctaccacttacctaccacttaCCTACCACCcgggtggtaagttgcagacattattaaaaacctcatcagaagcttgttcaaaaatttcaatactcgaaaCCTACCACCtgcgtcccctattatttactactactaataatagcagtataattgatctga\".ToUpper())\n",
    "\n",
    "\n",
    "let forward = data.[indexOri.. indexOri+((data.Length-1)/2)]\n",
    "\n",
    "forward.Length\n"
   ]
  },
  {
   "cell_type": "code",
   "execution_count": null,
   "metadata": {
    "dotnet_interactive": {
     "language": "fsharp"
    },
    "polyglot_notebook": {
     "kernelName": "fsharp"
    }
   },
   "outputs": [],
   "source": [
    "#r \"nuget: BioFSharp.Interactive, 2.0.0-preview.3\"\n",
    "open BioFSharp\n",
    "\n",
    "let thermotogaPetrophilaGenome = BioSeq.ofNucleotideString forward"
   ]
  },
  {
   "cell_type": "code",
   "execution_count": null,
   "metadata": {
    "dotnet_interactive": {
     "language": "fsharp"
    },
    "polyglot_notebook": {
     "kernelName": "fsharp"
    }
   },
   "outputs": [],
   "source": [
    "let anzahlForward_A =\n",
    "    thermotogaPetrophilaGenome \n",
    "    |> Seq.filter (fun x -> x = BioFSharp.Nucleotides.A)\n",
    "    |> Seq.length\n",
    "\n",
    "let anzahlForward_T =\n",
    "    thermotogaPetrophilaGenome \n",
    "    |> Seq.filter (fun x -> x = BioFSharp.Nucleotides.T)\n",
    "    |> Seq.length\n",
    "\n",
    "let anzahlForward_G =\n",
    "    thermotogaPetrophilaGenome \n",
    "    |> Seq.filter (fun x -> x = BioFSharp.Nucleotides.G)\n",
    "    |> Seq.length\n",
    "\n",
    "let anzahlForward_C =\n",
    "    thermotogaPetrophilaGenome \n",
    "    |> Seq.filter (fun x -> x = BioFSharp.Nucleotides.C)\n",
    "    |> Seq.length\n",
    "\n",
    "File.WriteAllText(@\"C:\\Users\\User\\source\\repos\\SchuelerPraktikum\\Thermotoga_petrophila_forward.txt\",forward)\n",
    "anzahlForward_C,anzahlForward_G,anzahlForward_A,anzahlForward_T    \n",
    "\n"
   ]
  },
  {
   "cell_type": "code",
   "execution_count": null,
   "metadata": {
    "dotnet_interactive": {
     "language": "fsharp"
    },
    "polyglot_notebook": {
     "kernelName": "fsharp"
    }
   },
   "outputs": [],
   "source": [
    "let reverse = data.[0.. indexOri] + data.[indexOri+forward.Length .. data.Length-1] \n",
    "\n",
    "let thermotogaPetrophilaGenomeRev  = BioSeq.ofNucleotideString reverse\n",
    "\n",
    "let anzahlRev_A =\n",
    "    thermotogaPetrophilaGenomeRev \n",
    "    |> Seq.filter (fun x -> x = BioFSharp.Nucleotides.A)\n",
    "    |> Seq.length\n",
    "\n",
    "let anzahlRev_T =\n",
    "    thermotogaPetrophilaGenomeRev \n",
    "    |> Seq.filter (fun x -> x = BioFSharp.Nucleotides.T)\n",
    "    |> Seq.length\n",
    "\n",
    "let anzahlRev_G =\n",
    "    thermotogaPetrophilaGenomeRev \n",
    "    |> Seq.filter (fun x -> x = BioFSharp.Nucleotides.G)\n",
    "    |> Seq.length\n",
    "\n",
    "let anzahlRev_C =\n",
    "    thermotogaPetrophilaGenomeRev \n",
    "    |> Seq.filter (fun x -> x = BioFSharp.Nucleotides.C)\n",
    "    |> Seq.length\n",
    "\n",
    "File.WriteAllText(@\"C:\\Users\\User\\source\\repos\\SchuelerPraktikum\\Thermotoga_petrophila_reverse.txt\",reverse)\n",
    "anzahlRev_C,anzahlRev_G,anzahlRev_A,anzahlRev_T    \n",
    "\n"
   ]
  }
 ],
 "metadata": {
  "kernelspec": {
   "display_name": ".NET (F#)",
   "language": "F#",
   "name": ".net-fsharp"
  },
  "polyglot_notebook": {
   "kernelInfo": {
    "defaultKernelName": "fsharp",
    "items": [
     {
      "aliases": [
       "f#",
       "F#"
      ],
      "languageName": "F#",
      "name": "fsharp"
     },
     {
      "aliases": [
       "frontend"
      ],
      "name": "vscode"
     },
     {
      "aliases": [],
      "name": ".NET"
     },
     {
      "aliases": [
       "c#",
       "C#"
      ],
      "languageName": "C#",
      "name": "csharp"
     },
     {
      "aliases": [],
      "languageName": "HTML",
      "name": "html"
     },
     {
      "aliases": [],
      "languageName": "KQL",
      "name": "kql"
     },
     {
      "aliases": [],
      "languageName": "Mermaid",
      "name": "mermaid"
     },
     {
      "aliases": [
       "powershell"
      ],
      "languageName": "PowerShell",
      "name": "pwsh"
     },
     {
      "aliases": [],
      "languageName": "SQL",
      "name": "sql"
     },
     {
      "aliases": [],
      "name": "value"
     }
    ]
   }
  }
 },
 "nbformat": 4,
 "nbformat_minor": 2
}
